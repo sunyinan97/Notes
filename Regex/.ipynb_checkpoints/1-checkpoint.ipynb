{
 "cells": [
  {
   "cell_type": "markdown",
   "metadata": {},
   "source": [
    "# 正则表达式\n",
    "大四开始频繁使用的工具，包括爬虫、文本过筛、文本抽取。由于每次都是现用现查，写出来的东西并不一定是最简练的。这次有这么长的假期可以总结一下....\n",
    "\n",
    "以python的re模块为例，因为这是平常用的最多的"
   ]
  },
  {
   "cell_type": "markdown",
   "metadata": {},
   "source": [
    "### 常量\n",
    "下面几个是最常用的\n",
    "- re.ASCII  re.A\n",
    "让模式值匹配目标串的ascii代码\n",
    "- re.IGNORECASE re.I\n",
    "忽略大小写\n",
    "- re.DOTALL re.S\n",
    "DOT匹配一切。默认条件正则匹配止于'\\n'，使用该标记可以让DOT，即'.'也匹配换行\n",
    "- re.MULTILINE re.M\n",
    "启动多行模式，详见例子\n",
    "- 常量叠加用 | \n",
    "\n",
    "后面两种，特别适用于处理HTML(不用bs4 xpath的简单情况)，因为里面有成片的\\r\\n。最开始我都是先把这些replace在处理的"
   ]
  },
  {
   "cell_type": "code",
   "execution_count": 1,
   "metadata": {},
   "outputs": [
    {
     "name": "stdout",
     "output_type": "stream",
     "text": [
      "re.ASCII\n",
      "['as哈哈bb呵呵awdk']\n",
      "['as', 'bb', 'awdk']\n",
      "re.INGORECASE\n",
      "[]\n",
      "['sunyinan']\n",
      "re.DOTALL\n",
      "obj_str: sun\n",
      "nan\n",
      "[]\n",
      "['sun\\nyi\\rnan']\n",
      "re.MULTILINE\n",
      "obj_str: sun\n",
      "yi\n",
      "nan\n",
      "[]\n",
      "['nan']\n"
     ]
    }
   ],
   "source": [
    "import re\n",
    "obj_str = 'as哈哈bb呵呵awdk'\n",
    "pattern = r'\\w+'\n",
    "print('re.ASCII')\n",
    "print(re.findall(pattern,obj_str))\n",
    "print(re.findall(pattern,obj_str,re.A))\n",
    "\n",
    "obj_str = 'sunyinan'\n",
    "pattern = r'SUNYINAN'\n",
    "print('re.INGORECASE')\n",
    "print(re.findall(pattern,obj_str))\n",
    "print(re.findall(pattern,obj_str,re.I))\n",
    "\n",
    "obj_str = 'sun\\nyi\\rnan'\n",
    "pattern = r'sun.yi\\rnan'\n",
    "print('re.DOTALL')\n",
    "print('obj_str:',obj_str)\n",
    "print(re.findall(pattern,obj_str))\n",
    "print(re.findall(pattern,obj_str,re.S))\n",
    "\n",
    "obj_str = 'sun\\nyi\\nnan'\n",
    "pattern = r'^nan'\n",
    "print('re.MULTILINE')\n",
    "print('obj_str:',obj_str)\n",
    "print(re.findall(pattern,obj_str))\n",
    "print(re.findall(pattern,obj_str,re.M))"
   ]
  },
  {
   "cell_type": "markdown",
   "metadata": {},
   "source": [
    "第四个例子，可以看出多行模式下可以用行首标志。\n",
    "\n",
    "另外，第三个例子的`obj_str` sunyinan没打全，这涉及到一个回车换行的问题，电传打字机的故事网上多了，这里就解释原因：\n",
    "\n",
    "第三个目标串，先打印 sun  然后换到第二行打印 yi   但是一个\\r把光标干到了行首，打印 nan 把 yi 覆盖了\n",
    "\n",
    "- 回车 Carriage Return \\r 0x0d  13 MAC系统用来另起一行\n",
    "- 换行 Line Feed \\n 0x0a 10 Unix/Linux用它另起一行\n",
    "- 最后windows \\r\\n 0x0d0a \n",
    "\n",
    "在python中，当遇到'\\r'回车符时，print的光标要重新置为这一行的开头而且不会换行，然后就会导致前面的内容被覆盖掉。这仅仅针对打印，写文件不会有问题，例如正则匹配。但是很多时候我是靠打印看对错的。"
   ]
  },
  {
   "cell_type": "markdown",
   "metadata": {},
   "source": [
    "### 函数\n",
    "- 平常的操作，正好对应了函数的分类：查找，替换，切割\n",
    "- 查找分成查找一个和查找所有\n",
    "- 替换和切割和str的方法有交集"
   ]
  },
  {
   "cell_type": "markdown",
   "metadata": {},
   "source": [
    "#### 查找一个\n",
    "- re.search 从头开始，任意位置找到一个匹配则返回\n",
    "- re.match 必须从头开始匹配，命中则返回\n",
    "- re.fullmatch 整个字符串匹配该模式则返回\n",
    "\n",
    "\n",
    "- 后面两个，一般可以通过re.search 加 ^ 和 $ 替代\n",
    "- 参数传递 第一个pattern 第二个obj_str 后面可以加前面的flags=常量\n",
    "- 返回值 标准的返回一个Match对象....所以group() span() 我用的更多，下面以search为例子"
   ]
  },
  {
   "cell_type": "code",
   "execution_count": 2,
   "metadata": {},
   "outputs": [
    {
     "name": "stdout",
     "output_type": "stream",
     "text": [
      "<re.Match object; span=(0, 8), match='sunyinan'>\n",
      "sunyinan\n",
      "sunyinan\n",
      "yi\n",
      "('sun', 'yi', 'nan')\n",
      "(0, 8)\n"
     ]
    }
   ],
   "source": [
    "import re\n",
    "pattern = r'(sun)(.*?)(nan)'\n",
    "obj_str = 'sunyinansunyinan'\n",
    "print(re.search(pattern,obj_str))\n",
    "print(re.search(pattern,obj_str).group())\n",
    "print(re.search(pattern,obj_str).group(0))\n",
    "print(re.search(pattern,obj_str).group(2))\n",
    "print(re.search(pattern,obj_str).groups())\n",
    "print(re.search(pattern,obj_str).span())"
   ]
  },
  {
   "cell_type": "markdown",
   "metadata": {},
   "source": [
    "#### 查找多个\n",
    "- findall和finditer，一个返回列表，一个返回match对象迭代器\n",
    "- 后者效率更优，但是使用上，findall因为返回值简单，用的更多\n",
    "- 参数和查找一个的差不多\n",
    "- 对findall，pattern不用分组，返回串列表，否则是分组元祖列表"
   ]
  },
  {
   "cell_type": "code",
   "execution_count": 3,
   "metadata": {},
   "outputs": [
    {
     "name": "stdout",
     "output_type": "stream",
     "text": [
      "[('sun', 'yi', 'nan'), ('sun', 'yi', 'nan')]\n",
      "<callable_iterator object at 0x00000190116B06A0>\n",
      "<re.Match object; span=(0, 8), match='sunyinan'>\n",
      "sunyinan\n",
      "('sun', 'yi', 'nan')\n",
      "(0, 8)\n",
      "['sunyinan', 'sunyinan']\n"
     ]
    }
   ],
   "source": [
    "import re\n",
    "pattern = r'(sun)(.*?)(nan)'\n",
    "obj_str = 'sunyinansunyinan'\n",
    "print(re.findall(pattern,obj_str))\n",
    "print(re.finditer(pattern,obj_str))\n",
    "for item in re.finditer(pattern,obj_str):\n",
    "    print(item)\n",
    "    print(item.group())\n",
    "    print(item.groups())\n",
    "    print(item.span())\n",
    "    break\n",
    "\n",
    "pattern = r'sunyinan'\n",
    "obj_str = 'sunyinansunyinan'\n",
    "print(re.findall(pattern,obj_str))"
   ]
  },
  {
   "cell_type": "markdown",
   "metadata": {},
   "source": [
    "#### 替换\n",
    "- 常用的sub 还有个subn，后者返回一个元组 (字符串, 替换次数)\n",
    "- 参数pattern repl text...\n",
    "- 我最喜欢repl可以是函数这一点，这样可以加逻辑替换！但是注意函数参数为了多变，还是个match对象..."
   ]
  },
  {
   "cell_type": "code",
   "execution_count": 4,
   "metadata": {},
   "outputs": [
    {
     "name": "stdout",
     "output_type": "stream",
     "text": [
      "aaa@@@bbbaaa@@@bbb\n",
      "('aaa@@@bbbaaa@@@bbb', 2)\n",
      "aaa@@@bbbaaa!!!bbb\n"
     ]
    }
   ],
   "source": [
    "import re\n",
    "pattern = r'sunyinan'\n",
    "repl = '@@@'\n",
    "obj_str = 'aaasunyinanbbbaaasunyinanbbb'\n",
    "print(re.sub(pattern,repl,obj_str))\n",
    "print(re.subn(pattern,repl,obj_str))\n",
    "\n",
    "pattern = r'suny[iI]nan'\n",
    "obj_str = 'aaasunyinanbbbaaasunyInanbbb'\n",
    "def sub_func(match_obj):\n",
    "    if match_obj.group()=='sunyinan':\n",
    "        return '@@@'\n",
    "    else:\n",
    "        return '!!!'\n",
    "print(re.sub(pattern,sub_func,obj_str))"
   ]
  },
  {
   "cell_type": "markdown",
   "metadata": {},
   "source": [
    "#### 分割\n",
    "- re.split() 相比于str.split()支持正则分割，这个不用举例子..."
   ]
  },
  {
   "cell_type": "markdown",
   "metadata": {},
   "source": [
    "## 两种写法\n",
    "网上写博客的分成两个派系，用compile的和不用的\n",
    "```\n",
    "re.search(pattern, text)\n",
    "\n",
    "compile = re.compile(pattern)\n",
    "compile.search(text)\n",
    "```\n",
    "然后网上在来一句，本质一样的....不说为啥，够点意思的告诉你看源码。\n",
    "\n",
    "源码中，re.xxx都是调用的Pattern对象的函数，比如re.findall\n",
    "```\n",
    "def findall(pattern,string,...):\n",
    "    return _compile(pattern,..).findall(string)\n",
    "def compile(...):\n",
    "    return _compile(...)\n",
    "```\n",
    "逻辑就是，你就算用re.xxx也是先生成一个Pattern对象在去xxx。可以理解为两步。所以当这个正则要执行万次以上时，可以分开写，这样值compile一次，比直接re.xxx要compile多次效率高\n",
    "\n",
    "> 官方文档：为了增加复用性，多次使用的表达式建议先编译，编译后的对象将被缓存，提高效率"
   ]
  },
  {
   "cell_type": "markdown",
   "metadata": {},
   "source": [
    "## 一些常识\n",
    "- pattern 前面加 r 是为了不让python字符串函数做特殊理解，原样传给正则模块。这个和shell挺像的，都是多级传参，但是用了同样的字符串理解方式。\n",
    "- 逻辑拆散了，以后读起来也许更方便。"
   ]
  }
 ],
 "metadata": {
  "kernelspec": {
   "display_name": "Python 3",
   "language": "python",
   "name": "python3"
  },
  "language_info": {
   "codemirror_mode": {
    "name": "ipython",
    "version": 3
   },
   "file_extension": ".py",
   "mimetype": "text/x-python",
   "name": "python",
   "nbconvert_exporter": "python",
   "pygments_lexer": "ipython3",
   "version": "3.7.0"
  }
 },
 "nbformat": 4,
 "nbformat_minor": 4
}
